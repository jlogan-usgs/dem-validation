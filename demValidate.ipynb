{
 "cells": [
  {
   "cell_type": "markdown",
   "metadata": {},
   "source": [
    "# Initial tests to run DEM validation"
   ]
  },
  {
   "cell_type": "code",
   "execution_count": 105,
   "metadata": {
    "collapsed": true
   },
   "outputs": [],
   "source": [
    "import rasterio \n",
    "import numpy as np\n",
    "import pandas as pd\n",
    "import matplotlib.pyplot as plt\n",
    "import seaborn as sns\n",
    "from scipy import ndimage"
   ]
  },
  {
   "cell_type": "code",
   "execution_count": 103,
   "metadata": {
    "collapsed": true
   },
   "outputs": [],
   "source": [
    "#jupyter magic\n",
    "%matplotlib inline"
   ]
  },
  {
   "cell_type": "code",
   "execution_count": 12,
   "metadata": {},
   "outputs": [],
   "source": [
    "#path to DEM\n",
    "demfile = 'C:\\\\jlogan_python\\\\demValidation\\\\data\\\\2017-1101-LPD_UAS-SfM-DEM_10cm.tif'\n",
    "\n",
    "#path to check points csv:\n",
    "checkfile = 'C:\\\\jlogan_python\\\\demValidation\\\\data\\\\2017-1101-LPD-UAS_backpackTopoValidation.csv'"
   ]
  },
  {
   "cell_type": "code",
   "execution_count": 77,
   "metadata": {
    "collapsed": true
   },
   "outputs": [],
   "source": [
    "#load DEM (geotiff)\n",
    "dataset = rasterio.open(demfile)\n",
    "\n",
    "#get numpy array\n",
    "dem = dataset.read(1)\n",
    "\n",
    "#convert nodatavalues to nans\n",
    "dem[dem==dataset.nodatavals] = np.nan"
   ]
  },
  {
   "cell_type": "markdown",
   "metadata": {},
   "source": [
    "#### How to use affine transform, from https://www.perrygeo.com/python-affine-transforms.html\n",
    "\n",
    "#### Using rasterio and affine\n",
    "`a = ds.affine`\n",
    "#### col, row to x, y\n",
    "`x, y = a * (col, row)`\n",
    "#### x, y to col, row\n",
    "`col, row = ~a * (x, y)`"
   ]
  },
  {
   "cell_type": "code",
   "execution_count": 113,
   "metadata": {},
   "outputs": [
    {
     "data": {
      "text/plain": [
       "Affine(0.0999999999999953, 0.0, 619541.2000000001,\n",
       "       0.0, -0.0999999999999891, 4027043.4)"
      ]
     },
     "execution_count": 113,
     "metadata": {},
     "output_type": "execute_result"
    }
   ],
   "source": [
    "#get affine transform\n",
    "a = dataset.affine\n",
    "a"
   ]
  },
  {
   "cell_type": "code",
   "execution_count": 7,
   "metadata": {},
   "outputs": [
    {
     "name": "stdout",
     "output_type": "stream",
     "text": [
      "0.0, 0.0\n"
     ]
    }
   ],
   "source": [
    "#Test affine\n",
    "\n",
    "#Top left coords of dataset should be 0,0\n",
    "col, row = ~a * (dataset.bounds.left, dataset.bounds.top)\n",
    "print(str(col) + ', ' + str(row))\n"
   ]
  },
  {
   "cell_type": "code",
   "execution_count": 8,
   "metadata": {},
   "outputs": [
    {
     "data": {
      "text/plain": [
       "(3179.289999999106, 5103.519999995828)"
      ]
     },
     "execution_count": 8,
     "metadata": {},
     "output_type": "execute_result"
    }
   ],
   "source": [
    "#Test getting array coords with geocoords from validation file\n",
    "north = 4026533.048\n",
    "east = 619859.129\n",
    "col, row = ~a * (east, north)\n",
    "#print(str(col) + ', ' + str(row))\n",
    "~a * (east, north)\n",
    "#need to check on order of x,y and col, row"
   ]
  },
  {
   "cell_type": "code",
   "execution_count": 98,
   "metadata": {},
   "outputs": [
    {
     "ename": "NameError",
     "evalue": "name 'nan' is not defined",
     "output_type": "error",
     "traceback": [
      "\u001b[1;31m---------------------------------------------------------------------------\u001b[0m",
      "\u001b[1;31mNameError\u001b[0m                                 Traceback (most recent call last)",
      "\u001b[1;32m<ipython-input-98-bebea221ad38>\u001b[0m in \u001b[0;36m<module>\u001b[1;34m()\u001b[0m\n\u001b[0;32m      1\u001b[0m \u001b[1;31m#try map_coordinates bilinear interp\u001b[0m\u001b[1;33m\u001b[0m\u001b[1;33m\u001b[0m\u001b[0m\n\u001b[1;32m----> 2\u001b[1;33m \u001b[0mz\u001b[0m \u001b[1;33m=\u001b[0m \u001b[0mndimage\u001b[0m\u001b[1;33m.\u001b[0m\u001b[0mmap_coordinates\u001b[0m\u001b[1;33m(\u001b[0m\u001b[0mdem\u001b[0m\u001b[1;33m,\u001b[0m \u001b[1;33m[\u001b[0m\u001b[1;33m[\u001b[0m\u001b[0mrow\u001b[0m\u001b[1;33m]\u001b[0m\u001b[1;33m,\u001b[0m\u001b[1;33m[\u001b[0m\u001b[0mcol\u001b[0m\u001b[1;33m]\u001b[0m\u001b[1;33m]\u001b[0m\u001b[1;33m,\u001b[0m \u001b[0morder\u001b[0m\u001b[1;33m=\u001b[0m\u001b[1;36m1\u001b[0m\u001b[1;33m,\u001b[0m \u001b[0mmode\u001b[0m\u001b[1;33m=\u001b[0m\u001b[1;34m'constant'\u001b[0m\u001b[1;33m,\u001b[0m \u001b[0mcval\u001b[0m\u001b[1;33m=\u001b[0m\u001b[0mnan\u001b[0m\u001b[1;33m)\u001b[0m\u001b[1;33m\u001b[0m\u001b[0m\n\u001b[0m\u001b[0;32m      3\u001b[0m \u001b[0mprint\u001b[0m\u001b[1;33m(\u001b[0m\u001b[0mstr\u001b[0m\u001b[1;33m(\u001b[0m\u001b[0mz\u001b[0m\u001b[1;33m)\u001b[0m\u001b[1;33m)\u001b[0m\u001b[1;33m\u001b[0m\u001b[0m\n",
      "\u001b[1;31mNameError\u001b[0m: name 'nan' is not defined"
     ]
    }
   ],
   "source": [
    "#try map_coordinates bilinear interp\n",
    "z = ndimage.map_coordinates(dem, [[row],[col]], order=1, mode='constant', cval=-9999)\n",
    "print(str(z))"
   ]
  },
  {
   "cell_type": "code",
   "execution_count": 37,
   "metadata": {},
   "outputs": [
    {
     "data": {
      "text/plain": [
       "318.08499"
      ]
     },
     "execution_count": 37,
     "metadata": {},
     "output_type": "execute_result"
    }
   ],
   "source": [
    "dem[5103,3179]"
   ]
  },
  {
   "cell_type": "code",
   "execution_count": 10,
   "metadata": {},
   "outputs": [
    {
     "data": {
      "text/plain": [
       "(619859.129, 4026533.0480000004)"
      ]
     },
     "execution_count": 10,
     "metadata": {},
     "output_type": "execute_result"
    }
   ],
   "source": [
    "a * (col, row)\n"
   ]
  },
  {
   "cell_type": "code",
   "execution_count": 15,
   "metadata": {},
   "outputs": [
    {
     "data": {
      "text/html": [
       "<div>\n",
       "<style>\n",
       "    .dataframe thead tr:only-child th {\n",
       "        text-align: right;\n",
       "    }\n",
       "\n",
       "    .dataframe thead th {\n",
       "        text-align: left;\n",
       "    }\n",
       "\n",
       "    .dataframe tbody tr th {\n",
       "        vertical-align: top;\n",
       "    }\n",
       "</style>\n",
       "<table border=\"1\" class=\"dataframe\">\n",
       "  <thead>\n",
       "    <tr style=\"text-align: right;\">\n",
       "      <th></th>\n",
       "      <th>pid</th>\n",
       "      <th>n</th>\n",
       "      <th>e</th>\n",
       "      <th>z</th>\n",
       "      <th>code</th>\n",
       "    </tr>\n",
       "  </thead>\n",
       "  <tbody>\n",
       "    <tr>\n",
       "      <th>0</th>\n",
       "      <td>10000</td>\n",
       "      <td>4026533.048</td>\n",
       "      <td>619859.129</td>\n",
       "      <td>318.097</td>\n",
       "      <td>BPACK</td>\n",
       "    </tr>\n",
       "    <tr>\n",
       "      <th>1</th>\n",
       "      <td>10001</td>\n",
       "      <td>4026532.466</td>\n",
       "      <td>619859.025</td>\n",
       "      <td>318.111</td>\n",
       "      <td>BPACK</td>\n",
       "    </tr>\n",
       "    <tr>\n",
       "      <th>2</th>\n",
       "      <td>10002</td>\n",
       "      <td>4026532.056</td>\n",
       "      <td>619859.497</td>\n",
       "      <td>318.098</td>\n",
       "      <td>BPACK</td>\n",
       "    </tr>\n",
       "    <tr>\n",
       "      <th>3</th>\n",
       "      <td>10003</td>\n",
       "      <td>4026531.544</td>\n",
       "      <td>619859.910</td>\n",
       "      <td>318.081</td>\n",
       "      <td>BPACK</td>\n",
       "    </tr>\n",
       "    <tr>\n",
       "      <th>4</th>\n",
       "      <td>10004</td>\n",
       "      <td>4026531.075</td>\n",
       "      <td>619860.394</td>\n",
       "      <td>318.072</td>\n",
       "      <td>BPACK</td>\n",
       "    </tr>\n",
       "  </tbody>\n",
       "</table>\n",
       "</div>"
      ],
      "text/plain": [
       "     pid            n           e        z   code\n",
       "0  10000  4026533.048  619859.129  318.097  BPACK\n",
       "1  10001  4026532.466  619859.025  318.111  BPACK\n",
       "2  10002  4026532.056  619859.497  318.098  BPACK\n",
       "3  10003  4026531.544  619859.910  318.081  BPACK\n",
       "4  10004  4026531.075  619860.394  318.072  BPACK"
      ]
     },
     "execution_count": 15,
     "metadata": {},
     "output_type": "execute_result"
    }
   ],
   "source": [
    "#get check points into dataframe\n",
    "df = pd.read_csv(checkfile)\n",
    "\n",
    "df.head()\n"
   ]
  },
  {
   "cell_type": "code",
   "execution_count": 79,
   "metadata": {},
   "outputs": [
    {
     "data": {
      "text/html": [
       "<div>\n",
       "<style>\n",
       "    .dataframe thead tr:only-child th {\n",
       "        text-align: right;\n",
       "    }\n",
       "\n",
       "    .dataframe thead th {\n",
       "        text-align: left;\n",
       "    }\n",
       "\n",
       "    .dataframe tbody tr th {\n",
       "        vertical-align: top;\n",
       "    }\n",
       "</style>\n",
       "<table border=\"1\" class=\"dataframe\">\n",
       "  <thead>\n",
       "    <tr style=\"text-align: right;\">\n",
       "      <th></th>\n",
       "      <th>pid</th>\n",
       "      <th>n</th>\n",
       "      <th>e</th>\n",
       "      <th>z</th>\n",
       "      <th>code</th>\n",
       "      <th>demcol</th>\n",
       "      <th>demrow</th>\n",
       "      <th>dem_z</th>\n",
       "      <th>resid</th>\n",
       "    </tr>\n",
       "  </thead>\n",
       "  <tbody>\n",
       "    <tr>\n",
       "      <th>0</th>\n",
       "      <td>10000</td>\n",
       "      <td>4026533.048</td>\n",
       "      <td>619859.129</td>\n",
       "      <td>318.097</td>\n",
       "      <td>BPACK</td>\n",
       "      <td>3179.29</td>\n",
       "      <td>5103.52</td>\n",
       "      <td>318.077423</td>\n",
       "      <td>0.019577</td>\n",
       "    </tr>\n",
       "    <tr>\n",
       "      <th>1</th>\n",
       "      <td>10001</td>\n",
       "      <td>4026532.466</td>\n",
       "      <td>619859.025</td>\n",
       "      <td>318.111</td>\n",
       "      <td>BPACK</td>\n",
       "      <td>3178.25</td>\n",
       "      <td>5109.34</td>\n",
       "      <td>318.061218</td>\n",
       "      <td>0.049782</td>\n",
       "    </tr>\n",
       "    <tr>\n",
       "      <th>2</th>\n",
       "      <td>10002</td>\n",
       "      <td>4026532.056</td>\n",
       "      <td>619859.497</td>\n",
       "      <td>318.098</td>\n",
       "      <td>BPACK</td>\n",
       "      <td>3182.97</td>\n",
       "      <td>5113.44</td>\n",
       "      <td>318.070221</td>\n",
       "      <td>0.027779</td>\n",
       "    </tr>\n",
       "    <tr>\n",
       "      <th>3</th>\n",
       "      <td>10003</td>\n",
       "      <td>4026531.544</td>\n",
       "      <td>619859.910</td>\n",
       "      <td>318.081</td>\n",
       "      <td>BPACK</td>\n",
       "      <td>3187.10</td>\n",
       "      <td>5118.56</td>\n",
       "      <td>318.067139</td>\n",
       "      <td>0.013861</td>\n",
       "    </tr>\n",
       "    <tr>\n",
       "      <th>4</th>\n",
       "      <td>10004</td>\n",
       "      <td>4026531.075</td>\n",
       "      <td>619860.394</td>\n",
       "      <td>318.072</td>\n",
       "      <td>BPACK</td>\n",
       "      <td>3191.94</td>\n",
       "      <td>5123.25</td>\n",
       "      <td>318.094666</td>\n",
       "      <td>-0.022666</td>\n",
       "    </tr>\n",
       "  </tbody>\n",
       "</table>\n",
       "</div>"
      ],
      "text/plain": [
       "     pid            n           e        z   code   demcol   demrow  \\\n",
       "0  10000  4026533.048  619859.129  318.097  BPACK  3179.29  5103.52   \n",
       "1  10001  4026532.466  619859.025  318.111  BPACK  3178.25  5109.34   \n",
       "2  10002  4026532.056  619859.497  318.098  BPACK  3182.97  5113.44   \n",
       "3  10003  4026531.544  619859.910  318.081  BPACK  3187.10  5118.56   \n",
       "4  10004  4026531.075  619860.394  318.072  BPACK  3191.94  5123.25   \n",
       "\n",
       "        dem_z     resid  \n",
       "0  318.077423  0.019577  \n",
       "1  318.061218  0.049782  \n",
       "2  318.070221  0.027779  \n",
       "3  318.067139  0.013861  \n",
       "4  318.094666 -0.022666  "
      ]
     },
     "execution_count": 79,
     "metadata": {},
     "output_type": "execute_result"
    }
   ],
   "source": [
    "#use affine to get DEM row, column into df\n",
    "df['demcol'], df['demrow'] = ~a * (df['e'], df['n'])\n",
    "\n",
    "df.head()"
   ]
  },
  {
   "cell_type": "code",
   "execution_count": 99,
   "metadata": {},
   "outputs": [],
   "source": [
    "#use map_coordinates to do bilinear interp and place result in new df column\n",
    "#need to transpose to get into rows to place into df\n",
    "df['dem_z'] = np.transpose(ndimage.map_coordinates(dem, [[df['demrow']],[df['demcol']]], order=1, mode='constant', cval=-9999))\n",
    "\n",
    "#drop rows which are nan\n",
    "df.dropna(axis=0, subset=['dem_z'], inplace=True)\n",
    "\n",
    "#drop rows which were assigned constant -9999 (outside of dem bounds)\n",
    "df = df.loc[df['dem_z'] != -9999]"
   ]
  },
  {
   "cell_type": "code",
   "execution_count": 100,
   "metadata": {},
   "outputs": [
    {
     "data": {
      "text/html": [
       "<div>\n",
       "<style>\n",
       "    .dataframe thead tr:only-child th {\n",
       "        text-align: right;\n",
       "    }\n",
       "\n",
       "    .dataframe thead th {\n",
       "        text-align: left;\n",
       "    }\n",
       "\n",
       "    .dataframe tbody tr th {\n",
       "        vertical-align: top;\n",
       "    }\n",
       "</style>\n",
       "<table border=\"1\" class=\"dataframe\">\n",
       "  <thead>\n",
       "    <tr style=\"text-align: right;\">\n",
       "      <th></th>\n",
       "      <th>pid</th>\n",
       "      <th>n</th>\n",
       "      <th>e</th>\n",
       "      <th>z</th>\n",
       "      <th>code</th>\n",
       "      <th>demcol</th>\n",
       "      <th>demrow</th>\n",
       "      <th>dem_z</th>\n",
       "      <th>resid</th>\n",
       "    </tr>\n",
       "  </thead>\n",
       "  <tbody>\n",
       "    <tr>\n",
       "      <th>0</th>\n",
       "      <td>10000</td>\n",
       "      <td>4026533.048</td>\n",
       "      <td>619859.129</td>\n",
       "      <td>318.097</td>\n",
       "      <td>BPACK</td>\n",
       "      <td>3179.29</td>\n",
       "      <td>5103.52</td>\n",
       "      <td>318.077423</td>\n",
       "      <td>0.019577</td>\n",
       "    </tr>\n",
       "    <tr>\n",
       "      <th>1</th>\n",
       "      <td>10001</td>\n",
       "      <td>4026532.466</td>\n",
       "      <td>619859.025</td>\n",
       "      <td>318.111</td>\n",
       "      <td>BPACK</td>\n",
       "      <td>3178.25</td>\n",
       "      <td>5109.34</td>\n",
       "      <td>318.061218</td>\n",
       "      <td>0.049782</td>\n",
       "    </tr>\n",
       "    <tr>\n",
       "      <th>2</th>\n",
       "      <td>10002</td>\n",
       "      <td>4026532.056</td>\n",
       "      <td>619859.497</td>\n",
       "      <td>318.098</td>\n",
       "      <td>BPACK</td>\n",
       "      <td>3182.97</td>\n",
       "      <td>5113.44</td>\n",
       "      <td>318.070221</td>\n",
       "      <td>0.027779</td>\n",
       "    </tr>\n",
       "    <tr>\n",
       "      <th>3</th>\n",
       "      <td>10003</td>\n",
       "      <td>4026531.544</td>\n",
       "      <td>619859.910</td>\n",
       "      <td>318.081</td>\n",
       "      <td>BPACK</td>\n",
       "      <td>3187.10</td>\n",
       "      <td>5118.56</td>\n",
       "      <td>318.067139</td>\n",
       "      <td>0.013861</td>\n",
       "    </tr>\n",
       "    <tr>\n",
       "      <th>4</th>\n",
       "      <td>10004</td>\n",
       "      <td>4026531.075</td>\n",
       "      <td>619860.394</td>\n",
       "      <td>318.072</td>\n",
       "      <td>BPACK</td>\n",
       "      <td>3191.94</td>\n",
       "      <td>5123.25</td>\n",
       "      <td>318.094666</td>\n",
       "      <td>-0.022666</td>\n",
       "    </tr>\n",
       "  </tbody>\n",
       "</table>\n",
       "</div>"
      ],
      "text/plain": [
       "     pid            n           e        z   code   demcol   demrow  \\\n",
       "0  10000  4026533.048  619859.129  318.097  BPACK  3179.29  5103.52   \n",
       "1  10001  4026532.466  619859.025  318.111  BPACK  3178.25  5109.34   \n",
       "2  10002  4026532.056  619859.497  318.098  BPACK  3182.97  5113.44   \n",
       "3  10003  4026531.544  619859.910  318.081  BPACK  3187.10  5118.56   \n",
       "4  10004  4026531.075  619860.394  318.072  BPACK  3191.94  5123.25   \n",
       "\n",
       "        dem_z     resid  \n",
       "0  318.077423  0.019577  \n",
       "1  318.061218  0.049782  \n",
       "2  318.070221  0.027779  \n",
       "3  318.067139  0.013861  \n",
       "4  318.094666 -0.022666  "
      ]
     },
     "execution_count": 100,
     "metadata": {},
     "output_type": "execute_result"
    }
   ],
   "source": [
    "df.head()"
   ]
  },
  {
   "cell_type": "code",
   "execution_count": 83,
   "metadata": {
    "collapsed": true
   },
   "outputs": [],
   "source": [
    "#calculate residual (obs - pred), or (check-dem)\n",
    "df['resid'] = df['z'] - df['dem_z']"
   ]
  },
  {
   "cell_type": "code",
   "execution_count": 106,
   "metadata": {},
   "outputs": [
    {
     "data": {
      "text/plain": [
       "0.02435310614675289"
      ]
     },
     "execution_count": 106,
     "metadata": {},
     "output_type": "execute_result"
    }
   ],
   "source": [
    "df['resid'].mean()\n"
   ]
  },
  {
   "cell_type": "code",
   "execution_count": 107,
   "metadata": {},
   "outputs": [
    {
     "data": {
      "image/png": "[encoded data removed]",
      "text/plain": [
       "<matplotlib.figure.Figure at 0x1a5c29547b8>"
      ]
     },
     "metadata": {},
     "output_type": "display_data"
    }
   ],
   "source": [
    "imgplot = plt.imshow(dem)"
   ]
  },
  {
   "cell_type": "code",
   "execution_count": 109,
   "metadata": {
    "collapsed": true
   },
   "outputs": [],
   "source": [
    "#make a hillshade\n",
    "#function from  http://neondataskills.org/lidar/create-hillshade-py/\n",
    "\n",
    "def hillshade(array,azimuth,angle_altitude):\n",
    "    azimuth = 360.0 - azimuth \n",
    "    \n",
    "    x, y = np.gradient(array)\n",
    "    slope = np.pi/2. - np.arctan(np.sqrt(x*x + y*y))\n",
    "    aspect = np.arctan2(-x, y)\n",
    "    azimuthrad = azimuth*np.pi/180.\n",
    "    altituderad = angle_altitude*np.pi/180.\n",
    " \n",
    "    shaded = np.sin(altituderad)*np.sin(slope) + np.cos(altituderad)*np.cos(slope)*np.cos((azimuthrad - np.pi/2.) - aspect)\n",
    "    \n",
    "    return 255*(shaded + 1)/2"
   ]
  },
  {
   "cell_type": "code",
   "execution_count": 110,
   "metadata": {
    "collapsed": true
   },
   "outputs": [],
   "source": [
    "dem_hillshade = hillshade(dem,300,45)"
   ]
  },
  {
   "cell_type": "code",
   "execution_count": 111,
   "metadata": {},
   "outputs": [
    {
     "data": {
      "image/png": "[encoded data removed]",
      "text/plain": [
       "<matplotlib.figure.Figure at 0x1a5e221bf28>"
      ]
     },
     "metadata": {},
     "output_type": "display_data"
    }
   ],
   "source": [
    "imgplot = plt.imshow(dem_hillshade, cmap='gray')"
   ]
  },
  {
   "cell_type": "code",
   "execution_count": 117,
   "metadata": {},
   "outputs": [
    {
     "data": {
      "text/plain": [
       "<matplotlib.image.AxesImage at 0x1a58a4bd630>"
      ]
     },
     "execution_count": 117,
     "metadata": {},
     "output_type": "execute_result"
    },
    {
     "data": {
      "image/png": "[encoded data removed]",
      "text/plain": [
       "<matplotlib.figure.Figure at 0x1a5e1f68550>"
      ]
     },
     "metadata": {},
     "output_type": "display_data"
    }
   ],
   "source": [
    "#on the fly hillshading\n",
    "#from https://mtaplotlib.org/examples/specialty_plots/topographic_hillshading.html\n",
    "\n",
    "from matplotlib.colors import LightSource\n",
    "ls = LightSource(azdeg=315,altdeg=45)\n",
    "cmap = plt.cm.gist_earth\n",
    "\n",
    "plt.imshow(ls.hillshade(dem, vert_exag=1.5, dx=0.1, dy=0.1), cmap='gray')"
   ]
  },
  {
   "cell_type": "code",
   "execution_count": 118,
   "metadata": {},
   "outputs": [
    {
     "name": "stderr",
     "output_type": "stream",
     "text": [
      "C:\\ProgramData\\Anaconda3\\lib\\site-packages\\matplotlib\\colors.py:489: RuntimeWarning: invalid value encountered in less\n",
      "  np.copyto(xa, -1, where=xa < 0.0)\n"
     ]
    },
    {
     "data": {
      "text/plain": [
       "<matplotlib.image.AxesImage at 0x1a58a530dd8>"
      ]
     },
     "execution_count": 118,
     "metadata": {},
     "output_type": "execute_result"
    },
    {
     "data": {
      "image/png": "[encoded data removed]",
      "text/plain": [
       "<matplotlib.figure.Figure at 0x1a5e1f967b8>"
      ]
     },
     "metadata": {},
     "output_type": "display_data"
    }
   ],
   "source": [
    "rgb = ls.shade(dem, cmap=cmap, blend_mode='overlay', vert_exag=1.5, dx=0.1, dy=0.1)\n",
    "plt.imshow(rgb)"
   ]
  }
 ],
 "metadata": {
  "kernelspec": {
   "display_name": "Python 3",
   "language": "python",
   "name": "python3"
  },
  "language_info": {
   "codemirror_mode": {
    "name": "ipython",
    "version": 3
   },
   "file_extension": ".py",
   "mimetype": "text/x-python",
   "name": "python",
   "nbconvert_exporter": "python",
   "pygments_lexer": "ipython3",
   "version": "3.6.3"
  }
 },
 "nbformat": 4,
 "nbformat_minor": 2
}
