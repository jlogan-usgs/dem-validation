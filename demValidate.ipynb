{
 "cells": [
  {
   "cell_type": "markdown",
   "metadata": {},
   "source": [
    "# Initial tests to run DEM validation"
   ]
  },
  {
   "cell_type": "code",
   "execution_count": 17,
   "metadata": {
    "collapsed": true
   },
   "outputs": [],
   "source": [
    "import rasterio \n",
    "import numpy as np\n",
    "import pandas as pd\n",
    "from scipy import ndimage"
   ]
  },
  {
   "cell_type": "code",
   "execution_count": 4,
   "metadata": {},
   "outputs": [],
   "source": [
    "#path to DEM\n",
    "demfile = 'C:\\\\jlogan_python\\\\demValidation\\\\data\\\\2017-1101-LPD_UAS-SfM-DEM_10cm.tif'\n",
    "\n",
    "#load DEM (geotiff)\n",
    "dataset = rasterio.open(demfile)"
   ]
  },
  {
   "cell_type": "code",
   "execution_count": 19,
   "metadata": {},
   "outputs": [],
   "source": [
    "#get numpy array\n",
    "dem = dataset.read(1)\n"
   ]
  },
  {
   "cell_type": "markdown",
   "metadata": {},
   "source": [
    "#### How to use affine transform, from https://www.perrygeo.com/python-affine-transforms.html\n",
    "\n",
    "#### Using rasterio and affine\n",
    "`a = ds.affine`\n",
    "#### col, row to x, y\n",
    "`x, y = a * (col, row)`\n",
    "#### x, y to col, row\n",
    "`col, row = ~a * (x, y)`"
   ]
  },
  {
   "cell_type": "code",
   "execution_count": 8,
   "metadata": {},
   "outputs": [],
   "source": [
    "#get affine transform\n",
    "a = dataset.affine\n"
   ]
  },
  {
   "cell_type": "code",
   "execution_count": 13,
   "metadata": {},
   "outputs": [
    {
     "name": "stdout",
     "output_type": "stream",
     "text": [
      "0.0, 0.0\n"
     ]
    }
   ],
   "source": [
    "#Test affine\n",
    "\n",
    "#Top left coords of dataset should be 0,0\n",
    "col, row = ~a * (dataset.bounds.left, dataset.bounds.top)\n",
    "print(str(col) + ', ' + str(row))\n"
   ]
  },
  {
   "cell_type": "code",
   "execution_count": 20,
   "metadata": {},
   "outputs": [
    {
     "data": {
      "text/plain": [
       "(3179.289999999106, 5103.519999995828)"
      ]
     },
     "execution_count": 20,
     "metadata": {},
     "output_type": "execute_result"
    }
   ],
   "source": [
    "#Test getting array coords with geocoords from validation file\n",
    "north = 4026533.048\n",
    "east = 619859.129\n",
    "col, row = ~a * (east, north)\n",
    "#print(str(col) + ', ' + str(row))\n",
    "~a * (east, north)\n",
    "#need to check on order of x,y and col, row"
   ]
  },
  {
   "cell_type": "code",
   "execution_count": 44,
   "metadata": {},
   "outputs": [
    {
     "name": "stdout",
     "output_type": "stream",
     "text": [
      "[ 318.0774231]\n"
     ]
    }
   ],
   "source": [
    "#try map_coordinates bilinear interp\n",
    "\n",
    "#first get indices into array\n",
    "coords = np.asarray([1, 1])\n",
    "z = ndimage.map_coordinates(dem, [[row],[col]], order=1, mode='constant', cval=-9999)\n",
    "print(str(z))"
   ]
  },
  {
   "cell_type": "code",
   "execution_count": 37,
   "metadata": {},
   "outputs": [
    {
     "data": {
      "text/plain": [
       "318.08499"
      ]
     },
     "execution_count": 37,
     "metadata": {},
     "output_type": "execute_result"
    }
   ],
   "source": [
    "dem[5103,3179]"
   ]
  },
  {
   "cell_type": "code",
   "execution_count": 40,
   "metadata": {},
   "outputs": [
    {
     "data": {
      "text/plain": [
       "(1,)"
      ]
     },
     "execution_count": 40,
     "metadata": {},
     "output_type": "execute_result"
    }
   ],
   "source": [
    "z.shape\n"
   ]
  }
 ],
 "metadata": {
  "kernelspec": {
   "display_name": "Python 3",
   "language": "python",
   "name": "python3"
  },
  "language_info": {
   "codemirror_mode": {
    "name": "ipython",
    "version": 3
   },
   "file_extension": ".py",
   "mimetype": "text/x-python",
   "name": "python",
   "nbconvert_exporter": "python",
   "pygments_lexer": "ipython3",
   "version": "3.6.3"
  }
 },
 "nbformat": 4,
 "nbformat_minor": 2
}
